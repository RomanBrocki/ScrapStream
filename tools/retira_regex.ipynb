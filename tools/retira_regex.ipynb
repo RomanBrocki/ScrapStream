{
 "cells": [
  {
   "cell_type": "code",
   "execution_count": null,
   "id": "a457f0d9",
   "metadata": {},
   "outputs": [],
   "source": [
    "import os\n",
    "import re\n",
    "from docx import Document\n",
    "\n",
    "def limpar_texto_paragrafo(texto: str) -> str:\n",
    "    \"\"\"\n",
    "    Aplica todos os filtros de limpeza diretamente no texto do parágrafo.\n",
    "    Remove:\n",
    "    - 'The end' isolado com ou sem ponto\n",
    "    - Comentários como 'Corrected:', 'Edited:', etc.\n",
    "    \"\"\"\n",
    "    texto = texto.strip()\n",
    "\n",
    "    # Remove \"The end\" sozinho na linha (com ou sem ponto)\n",
    "    texto = re.sub(r\"(?i)^\\s*the end\\.?\\s*$\", \"\", texto, flags=re.MULTILINE)\n",
    "\n",
    "    # Remove linhas tipo 'Corrected: ...'\n",
    "    texto = re.sub(r\"(?i)^ *(corrected|edited|fixes|changes|modifications):.*$\", \"\", texto, flags=re.MULTILINE)\n",
    "\n",
    "    return texto.strip()\n",
    "\n",
    "def remover_artefatos_docx(caminho_arquivo: str) -> str:\n",
    "    \"\"\"\n",
    "    Remove artefatos comuns de revisão LLM de um .docx (e.g. 'The end', 'Corrected:')\n",
    "    Salva uma nova cópia com sufixo '_te' no nome.\n",
    "\n",
    "    Args:\n",
    "        caminho_arquivo (str): Caminho completo do .docx original.\n",
    "\n",
    "    Returns:\n",
    "        str: Caminho do novo arquivo salvo com '_te.docx'.\n",
    "    \"\"\"\n",
    "    doc = Document(caminho_arquivo)\n",
    "    novo_doc = Document()\n",
    "\n",
    "    for par in doc.paragraphs:\n",
    "        texto_limpo = limpar_texto_paragrafo(par.text)\n",
    "        if texto_limpo:\n",
    "            novo_par = novo_doc.add_paragraph(texto_limpo)\n",
    "            novo_par.style = par.style\n",
    "\n",
    "    dir_base, nome = os.path.split(caminho_arquivo)\n",
    "    nome_base, _ = os.path.splitext(nome)\n",
    "    novo_nome = f\"{nome_base}_te.docx\"\n",
    "    novo_caminho = os.path.join(dir_base, novo_nome)\n",
    "\n",
    "    novo_doc.save(novo_caminho)\n",
    "    return novo_caminho\n",
    "\n"
   ]
  },
  {
   "cell_type": "code",
   "execution_count": null,
   "id": "554d8a94",
   "metadata": {},
   "outputs": [
    {
     "data": {
      "text/plain": [
       "'Divine Emperor of Death 1901-2000_revisado_te.docx'"
      ]
     },
     "execution_count": 6,
     "metadata": {},
     "output_type": "execute_result"
    }
   ],
   "source": [
    "remover_artefatos_docx(\"Divine Emperor of Death 1801-1900_revisado.docx\")\n",
    "remover_artefatos_docx(\"Divine Emperor of Death 1901-2000_revisado.docx\")"
   ]
  }
 ],
 "metadata": {
  "kernelspec": {
   "display_name": "ml_gpu",
   "language": "python",
   "name": "python3"
  },
  "language_info": {
   "codemirror_mode": {
    "name": "ipython",
    "version": 3
   },
   "file_extension": ".py",
   "mimetype": "text/x-python",
   "name": "python",
   "nbconvert_exporter": "python",
   "pygments_lexer": "ipython3",
   "version": "3.11.11"
  }
 },
 "nbformat": 4,
 "nbformat_minor": 5
}
